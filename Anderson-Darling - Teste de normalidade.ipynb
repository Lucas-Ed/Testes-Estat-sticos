{
 "cells": [
  {
   "cell_type": "markdown",
   "metadata": {},
   "source": [
    "# Anderson-Darling - Teste de normalidade"
   ]
  },
  {
   "cell_type": "code",
   "execution_count": 1,
   "metadata": {},
   "outputs": [],
   "source": [
    "# importing the libraries\n",
    "import scipy.stats as stats"
   ]
  },
  {
   "cell_type": "code",
   "execution_count": 2,
   "metadata": {},
   "outputs": [],
   "source": [
    "# Adding the data\n",
    "y = [1.90642, 2.22488, 2.10288, 1.69742, 1.52229, 3.15435, 2.61826, 1.98492, 1.42738, 1.99568]"
   ]
  },
  {
   "cell_type": "code",
   "execution_count": 4,
   "metadata": {},
   "outputs": [],
   "source": [
    "# Calculating the Anderson-Darling test\n",
    "ad_stat, ad_critico, ad_teorico = stats.anderson(y, 'norm')\n",
    "language = \"portugues\"    \n",
    "language = \"english\"  "
   ]
  },
  {
   "cell_type": "code",
   "execution_count": 8,
   "metadata": {},
   "outputs": [
    {
     "name": "stdout",
     "output_type": "stream",
     "text": [
      "At 95.0% nível de confiança, o valor estatístico do teste Anderson-Darling é = 0.684\n",
      "O valor estatístico calculado para o teste Anderson-Darling é = 0.3416856332675007\n",
      "At 95.0% nível de confiança, NÃO temos evidências para rejeitar a hipótese de normalidade dos dados, de acordo com o teste de Anderson-Darling \n"
     ]
    }
   ],
   "source": [
    "# Conclusion\n",
    "if language == \"english\":\n",
    "    print(\"At \" + str(100 - ad_teorico[2]) + \"% nível de confiança, o valor estatístico do teste Anderson-Darling é = \" + str(ad_critico[2]))\n",
    "    print(\"O valor estatístico calculado para o teste Anderson-Darling é = \" + str(ad_stat))\n",
    "    if ad_stat < ad_critico[2]:\n",
    "        print(\"At \" + str(100 - ad_teorico[2]) + \"% nível de confiança, NÃO temos evidências para rejeitar a hipótese de normalidade dos dados, de acordo com o teste de Anderson-Darling \")\n",
    "    else:\n",
    "        print(\"At \" + str(100 - ad_teorico[2]) + \"% nível de confiança, temos evidências para rejeitar a hipótese de normalidade dos dados, de acordo com o teste de Anderson-Darling\")\n",
    "\n",
    "elif language == \"portugues\":\n",
    "    print(\"Com \" + str(100 - ad_teorico[2]) + \"% de confianca, o valor teorico do teste de Anderson-Darling eh = \" + str(ad_critico[2]))\n",
    "    print(\"O valor calculado para a estatistica do teste de Anderson-Darling eh = \" + str(ad_stat))\n",
    "    if ad_stat < ad_critico[2]:\n",
    "        print(\"Com \" + str(100 - ad_teorico[2]) + \"% de confianca, não temos evidências para rejeitar a hipótese de normalidade dos dados, segundo o teste de Anderson-Darling\")\n",
    "    else:\n",
    "        print(\"Com \" + str(100 - ad_teorico[2]) + \"% de confianca, temos evidências para rejeitar a hipótese de normalidade dos dados, segundo o teste de Anderson-Darling\")        \n",
    "else:\n",
    "    print(\"Unsupported language\")"
   ]
  },
  {
   "cell_type": "code",
   "execution_count": null,
   "metadata": {},
   "outputs": [],
   "source": []
  }
 ],
 "metadata": {
  "kernelspec": {
   "display_name": "Python 3",
   "language": "python",
   "name": "python3"
  },
  "language_info": {
   "codemirror_mode": {
    "name": "ipython",
    "version": 3
   },
   "file_extension": ".py",
   "mimetype": "text/x-python",
   "name": "python",
   "nbconvert_exporter": "python",
   "pygments_lexer": "ipython3",
   "version": "3.8.5"
  }
 },
 "nbformat": 4,
 "nbformat_minor": 4
}
